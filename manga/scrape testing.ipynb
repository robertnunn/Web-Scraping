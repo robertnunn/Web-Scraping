{
 "cells": [
  {
   "cell_type": "code",
   "execution_count": 1,
   "metadata": {},
   "outputs": [],
   "source": [
    "import os\n",
    "import json\n",
    "import requests\n",
    "import bs4\n",
    "import re\n",
    "from utils import save_file"
   ]
  },
  {
   "cell_type": "code",
   "execution_count": 2,
   "metadata": {},
   "outputs": [],
   "source": [
    "os.chdir('D:/Programming/Projects/Web-Scraping')\n",
    "with open('manga/manga sources.json', 'r') as ms:\n",
    "    manga_source = json.loads(ms.read())\n",
    "\n",
    "headers = manga_source['mangas']['mangatown']['header_info']\n",
    "headers = {'referer': 'https://www.mangatown.com', 'host': 'fmcdn.mangahere.com'}"
   ]
  },
  {
   "cell_type": "code",
   "execution_count": 3,
   "metadata": {},
   "outputs": [],
   "source": [
    "url = 'https://www.mangatown.com/manga/slime_life'\n",
    "r = requests.get(url)\n",
    "r.raise_for_status()\n",
    "soup = bs4.BeautifulSoup(r.text, 'lxml')"
   ]
  },
  {
   "cell_type": "code",
   "execution_count": 4,
   "metadata": {},
   "outputs": [
    {
     "name": "stdout",
     "output_type": "stream",
     "text": [
      "https://fmcdn.mangahere.com/store/manga/30013/ocover.jpg?token=29fc03ead869fdc6233ed3c081ffc5c47b1b6e3c&ttl=1653825600&v=1543809158\n"
     ]
    }
   ],
   "source": [
    "img_tag = soup.select('div[class~=detail_info] > img')\n",
    "# print(len(img_tag))\n",
    "# print(img_tag[0].attrs)\n",
    "img_src = img_tag[0].get('src')\n",
    "print(img_src)"
   ]
  },
  {
   "cell_type": "code",
   "execution_count": 5,
   "metadata": {},
   "outputs": [
    {
     "name": "stdout",
     "output_type": "stream",
     "text": [
      "trying:  D:/Weeb shit/Manga/Slime Life/thumb.jpg\n",
      "{'Host': 'fmcdn.mangahere.com', 'User-Agent': 'Mozilla/5.0 (Windows NT 6.1; Win64; x64; rv:100.0) Gecko/20100101 Firefox/100.0', 'Accept': 'image/avif,image/webp,*/*', 'Accept-Language': 'en-US,en;q=0.5', 'Accept-Encoding': 'gzip, deflate, br', 'Referer': 'https://www.mangatown.com'}\n",
      "Saving: thumb.jpg\n"
     ]
    }
   ],
   "source": [
    "\n",
    "save_file('D:/Weeb shit/Manga/Slime Life/', 'thumb.jpg', img_src, headers)"
   ]
  }
 ],
 "metadata": {
  "interpreter": {
   "hash": "8d308813b41a6aa4d2d751e4fc7aeb80dc4a038e422e8a5dc6bd1a89b3b45c3d"
  },
  "kernelspec": {
   "display_name": "Python 3.8.1 64-bit",
   "language": "python",
   "name": "python3"
  },
  "language_info": {
   "codemirror_mode": {
    "name": "ipython",
    "version": 3
   },
   "file_extension": ".py",
   "mimetype": "text/x-python",
   "name": "python",
   "nbconvert_exporter": "python",
   "pygments_lexer": "ipython3",
   "version": "3.8.1"
  },
  "orig_nbformat": 4
 },
 "nbformat": 4,
 "nbformat_minor": 2
}
